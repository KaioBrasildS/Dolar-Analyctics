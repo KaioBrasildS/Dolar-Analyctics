{
 "cells": [
  {
   "cell_type": "code",
   "execution_count": 2,
   "metadata": {},
   "outputs": [],
   "source": [
    "import sys\n",
    "sys.path.append('../src')\n",
    "import key\n",
    "series_id = 'DEXBZUS'"
   ]
  },
  {
   "cell_type": "code",
   "execution_count": 3,
   "metadata": {},
   "outputs": [],
   "source": [
    "import pandas as pd\n",
    "import numpy as np\n",
    "import matplotlib.pyplot as plt\n",
    "import plotly.express as px\n",
    "\n",
    "from fredapi import Fred"
   ]
  },
  {
   "cell_type": "code",
   "execution_count": 5,
   "metadata": {},
   "outputs": [
    {
     "data": {
      "text/html": [
       "<div>\n",
       "<style scoped>\n",
       "    .dataframe tbody tr th:only-of-type {\n",
       "        vertical-align: middle;\n",
       "    }\n",
       "\n",
       "    .dataframe tbody tr th {\n",
       "        vertical-align: top;\n",
       "    }\n",
       "\n",
       "    .dataframe thead th {\n",
       "        text-align: right;\n",
       "    }\n",
       "</style>\n",
       "<table border=\"1\" class=\"dataframe\">\n",
       "  <thead>\n",
       "    <tr style=\"text-align: right;\">\n",
       "      <th></th>\n",
       "      <th>frequency</th>\n",
       "      <th>frequency_short</th>\n",
       "      <th>id</th>\n",
       "      <th>last_updated</th>\n",
       "      <th>notes</th>\n",
       "      <th>observation_end</th>\n",
       "      <th>observation_start</th>\n",
       "      <th>popularity</th>\n",
       "      <th>realtime_end</th>\n",
       "      <th>realtime_start</th>\n",
       "      <th>seasonal_adjustment</th>\n",
       "      <th>seasonal_adjustment_short</th>\n",
       "      <th>title</th>\n",
       "      <th>units</th>\n",
       "      <th>units_short</th>\n",
       "    </tr>\n",
       "    <tr>\n",
       "      <th>series id</th>\n",
       "      <th></th>\n",
       "      <th></th>\n",
       "      <th></th>\n",
       "      <th></th>\n",
       "      <th></th>\n",
       "      <th></th>\n",
       "      <th></th>\n",
       "      <th></th>\n",
       "      <th></th>\n",
       "      <th></th>\n",
       "      <th></th>\n",
       "      <th></th>\n",
       "      <th></th>\n",
       "      <th></th>\n",
       "      <th></th>\n",
       "    </tr>\n",
       "  </thead>\n",
       "  <tbody>\n",
       "    <tr>\n",
       "      <th>DEXBZUS</th>\n",
       "      <td>Daily</td>\n",
       "      <td>D</td>\n",
       "      <td>DEXBZUS</td>\n",
       "      <td>2025-01-13 15:19:11-06:00</td>\n",
       "      <td>Noon buying rates in New York City for cable t...</td>\n",
       "      <td>2025-01-10</td>\n",
       "      <td>1995-01-02</td>\n",
       "      <td>48</td>\n",
       "      <td>2025-01-15</td>\n",
       "      <td>2025-01-15</td>\n",
       "      <td>Not Seasonally Adjusted</td>\n",
       "      <td>NSA</td>\n",
       "      <td>Brazilian Reals to U.S. Dollar Spot Exchange Rate</td>\n",
       "      <td>Brazilian Reals to One U.S. Dollar</td>\n",
       "      <td>Brazilian Reals to  1 U.S. $</td>\n",
       "    </tr>\n",
       "  </tbody>\n",
       "</table>\n",
       "</div>"
      ],
      "text/plain": [
       "          frequency frequency_short       id              last_updated  \\\n",
       "series id                                                                \n",
       "DEXBZUS       Daily               D  DEXBZUS 2025-01-13 15:19:11-06:00   \n",
       "\n",
       "                                                       notes observation_end  \\\n",
       "series id                                                                      \n",
       "DEXBZUS    Noon buying rates in New York City for cable t...      2025-01-10   \n",
       "\n",
       "          observation_start popularity realtime_end realtime_start  \\\n",
       "series id                                                            \n",
       "DEXBZUS          1995-01-02         48   2025-01-15     2025-01-15   \n",
       "\n",
       "               seasonal_adjustment seasonal_adjustment_short  \\\n",
       "series id                                                      \n",
       "DEXBZUS    Not Seasonally Adjusted                       NSA   \n",
       "\n",
       "                                                       title  \\\n",
       "series id                                                      \n",
       "DEXBZUS    Brazilian Reals to U.S. Dollar Spot Exchange Rate   \n",
       "\n",
       "                                        units                   units_short  \n",
       "series id                                                                    \n",
       "DEXBZUS    Brazilian Reals to One U.S. Dollar  Brazilian Reals to  1 U.S. $  "
      ]
     },
     "metadata": {},
     "output_type": "display_data"
    }
   ],
   "source": [
    "# Create Fred object.\n",
    "fred = Fred(api_key=key.apiKey)\n",
    "\n",
    "# Show series information.\n",
    "display(fred.search(series_id))\n",
    "\n",
    "# Get series from freed.\n",
    "data = fred.get_series(series_id)\n"
   ]
  },
  {
   "cell_type": "code",
   "execution_count": 6,
   "metadata": {},
   "outputs": [],
   "source": [
    "# Reset serie index.\n",
    "df = data.reset_index()\n",
    "\n",
    "# Convert in dataframe.\n",
    "df.columns = ['date', 'exchange_rate']  # Rename columns."
   ]
  }
 ],
 "metadata": {
  "kernelspec": {
   "display_name": "Python 3",
   "language": "python",
   "name": "python3"
  },
  "language_info": {
   "codemirror_mode": {
    "name": "ipython",
    "version": 3
   },
   "file_extension": ".py",
   "mimetype": "text/x-python",
   "name": "python",
   "nbconvert_exporter": "python",
   "pygments_lexer": "ipython3",
   "version": "3.11.5"
  }
 },
 "nbformat": 4,
 "nbformat_minor": 2
}
