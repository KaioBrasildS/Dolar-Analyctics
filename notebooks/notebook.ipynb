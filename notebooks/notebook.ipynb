{
 "cells": [
  {
   "cell_type": "code",
   "execution_count": 1,
   "metadata": {},
   "outputs": [],
   "source": [
    "import sys\n",
    "sys.path.append('../src')\n",
    "import key\n",
    "dolar_series_id = 'DEXBZUS'"
   ]
  },
  {
   "cell_type": "code",
   "execution_count": 2,
   "metadata": {},
   "outputs": [],
   "source": [
    "import pandas as pd\n",
    "import numpy as np\n",
    "import matplotlib.pyplot as plt\n",
    "import plotly.express as px\n",
    "\n",
    "from fredapi import Fred"
   ]
  },
  {
   "cell_type": "code",
   "execution_count": 3,
   "metadata": {},
   "outputs": [],
   "source": [
    "# Create Fred object.\n",
    "fred = Fred(api_key=key.apiKey)\n"
   ]
  },
  {
   "cell_type": "code",
   "execution_count": 4,
   "metadata": {},
   "outputs": [],
   "source": [
    "# Get series from freed.\n",
    "data_dolar = fred.get_series(dolar_series_id)"
   ]
  },
  {
   "cell_type": "code",
   "execution_count": 24,
   "metadata": {},
   "outputs": [],
   "source": [
    "# for dolar\n",
    "# Reset serie index.\n",
    "df_dolar = data_dolar.reset_index()\n",
    "\n",
    "# Convert in dataframe.\n",
    "df_dolar.columns = ['date', 'exchange_rate']  # Rename columns.\n",
    "\n",
    "df_dolar['date'] = pd.to_datetime(df_dolar['date'])\n"
   ]
  },
  {
   "cell_type": "code",
   "execution_count": 25,
   "metadata": {},
   "outputs": [
    {
     "data": {
      "text/html": [
       "<div>\n",
       "<style scoped>\n",
       "    .dataframe tbody tr th:only-of-type {\n",
       "        vertical-align: middle;\n",
       "    }\n",
       "\n",
       "    .dataframe tbody tr th {\n",
       "        vertical-align: top;\n",
       "    }\n",
       "\n",
       "    .dataframe thead th {\n",
       "        text-align: right;\n",
       "    }\n",
       "</style>\n",
       "<table border=\"1\" class=\"dataframe\">\n",
       "  <thead>\n",
       "    <tr style=\"text-align: right;\">\n",
       "      <th></th>\n",
       "      <th>date</th>\n",
       "      <th>exchange_rate</th>\n",
       "    </tr>\n",
       "  </thead>\n",
       "  <tbody>\n",
       "    <tr>\n",
       "      <th>0</th>\n",
       "      <td>1995-01-02</td>\n",
       "      <td>0.8440</td>\n",
       "    </tr>\n",
       "    <tr>\n",
       "      <th>1</th>\n",
       "      <td>1995-01-03</td>\n",
       "      <td>0.8450</td>\n",
       "    </tr>\n",
       "    <tr>\n",
       "      <th>2</th>\n",
       "      <td>1995-01-04</td>\n",
       "      <td>0.8450</td>\n",
       "    </tr>\n",
       "    <tr>\n",
       "      <th>3</th>\n",
       "      <td>1995-01-05</td>\n",
       "      <td>0.8430</td>\n",
       "    </tr>\n",
       "    <tr>\n",
       "      <th>4</th>\n",
       "      <td>1995-01-06</td>\n",
       "      <td>0.8400</td>\n",
       "    </tr>\n",
       "    <tr>\n",
       "      <th>...</th>\n",
       "      <td>...</td>\n",
       "      <td>...</td>\n",
       "    </tr>\n",
       "    <tr>\n",
       "      <th>7835</th>\n",
       "      <td>2025-01-13</td>\n",
       "      <td>6.1089</td>\n",
       "    </tr>\n",
       "    <tr>\n",
       "      <th>7836</th>\n",
       "      <td>2025-01-14</td>\n",
       "      <td>6.0506</td>\n",
       "    </tr>\n",
       "    <tr>\n",
       "      <th>7837</th>\n",
       "      <td>2025-01-15</td>\n",
       "      <td>6.0466</td>\n",
       "    </tr>\n",
       "    <tr>\n",
       "      <th>7838</th>\n",
       "      <td>2025-01-16</td>\n",
       "      <td>6.0448</td>\n",
       "    </tr>\n",
       "    <tr>\n",
       "      <th>7839</th>\n",
       "      <td>2025-01-17</td>\n",
       "      <td>6.0368</td>\n",
       "    </tr>\n",
       "  </tbody>\n",
       "</table>\n",
       "<p>7840 rows × 2 columns</p>\n",
       "</div>"
      ],
      "text/plain": [
       "           date  exchange_rate\n",
       "0    1995-01-02         0.8440\n",
       "1    1995-01-03         0.8450\n",
       "2    1995-01-04         0.8450\n",
       "3    1995-01-05         0.8430\n",
       "4    1995-01-06         0.8400\n",
       "...         ...            ...\n",
       "7835 2025-01-13         6.1089\n",
       "7836 2025-01-14         6.0506\n",
       "7837 2025-01-15         6.0466\n",
       "7838 2025-01-16         6.0448\n",
       "7839 2025-01-17         6.0368\n",
       "\n",
       "[7840 rows x 2 columns]"
      ]
     },
     "execution_count": 25,
     "metadata": {},
     "output_type": "execute_result"
    }
   ],
   "source": [
    "df_dolar"
   ]
  },
  {
   "cell_type": "code",
   "execution_count": 28,
   "metadata": {},
   "outputs": [
    {
     "name": "stdout",
     "output_type": "stream",
     "text": [
      "Dados encontrados para 2019-01-02:\n",
      "           date  exchange_rate\n",
      "6262 2019-01-02         3.8123\n"
     ]
    }
   ],
   "source": [
    "# Data específica para busca\n",
    "data_especifica = \"2019-01-02\"\n",
    "\n",
    "# Converter para formato de data\n",
    "data_especifica = pd.to_datetime(data_especifica)\n",
    "\n",
    "# Filtrar o DataFrame\n",
    "filtro = df_dolar[df_dolar[\"date\"] == data_especifica]\n",
    "\n",
    "# Exibir os resultados\n",
    "if not filtro.empty:\n",
    "    print(f\"Dados encontrados para {data_especifica.date()}:\\n{filtro}\")\n",
    "else:\n",
    "    print(f\"Nenhum dado encontrado para {data_especifica.date()}.\")\n"
   ]
  },
  {
   "cell_type": "code",
   "execution_count": 29,
   "metadata": {},
   "outputs": [
    {
     "name": "stdout",
     "output_type": "stream",
     "text": [
      "Data: 2019-01-02\n",
      "Taxa de câmbio (USD para BRL): R$ 3.8858\n"
     ]
    }
   ],
   "source": [
    "import requests\n",
    "\n",
    "# Data desejada\n",
    "data_desejada = \"2019-01-02\"\n",
    "\n",
    "# URL base da AwesomeAPI para dados históricos\n",
    "url = f\"https://economia.awesomeapi.com.br/json/daily/USD-BRL/1?start_date={data_desejada.replace('-', '')}&end_date={data_desejada.replace('-', '')}\"\n",
    "\n",
    "# Realizar a requisição\n",
    "response = requests.get(url)\n",
    "\n",
    "if response.status_code == 200:\n",
    "    dados = response.json()\n",
    "    if dados:\n",
    "        # Extrair o valor do dólar para BRL na data especificada\n",
    "        taxa_brl = dados[0].get(\"bid\")\n",
    "        if taxa_brl:\n",
    "            print(f\"Data: {data_desejada}\")\n",
    "            print(f\"Taxa de câmbio (USD para BRL): R$ {taxa_brl}\")\n",
    "        else:\n",
    "            print(\"Não foi possível encontrar a taxa de câmbio para BRL.\")\n",
    "    else:\n",
    "        print(f\"Nenhum dado encontrado para a data {data_desejada}.\")\n",
    "else:\n",
    "    print(f\"Erro na requisição: {response.status_code}\")\n"
   ]
  },
  {
   "cell_type": "code",
   "execution_count": 16,
   "metadata": {},
   "outputs": [
    {
     "name": "stderr",
     "output_type": "stream",
     "text": [
      "C:\\Users\\kaio\\AppData\\Local\\Temp\\ipykernel_11032\\1315118597.py:45: FutureWarning: The behavior of 'to_datetime' with 'unit' when parsing strings is deprecated. In a future version, strings will be parsed as datetime strings, matching the behavior without a 'unit'. To retain the old behavior, explicitly cast ints or floats to numeric type before calling to_datetime.\n",
      "  df[\"timestamp\"] = pd.to_datetime(df[\"timestamp\"], unit=\"s\")  # Converter timestamps\n"
     ]
    },
    {
     "name": "stdout",
     "output_type": "stream",
     "text": [
      "Série histórica salva em 'serie_historica_usd_brl.csv'\n"
     ]
    }
   ],
   "source": [
    "import requests\n",
    "import pandas as pd\n",
    "from datetime import datetime, timedelta\n",
    "\n",
    "def obter_serie_historica_dolar(start_date, end_date):\n",
    "    \"\"\"\n",
    "    Obtém a série histórica de câmbio USD para BRL da API AwesomeAPI.\n",
    "    \n",
    "    Parâmetros:\n",
    "    - start_date: Data inicial no formato 'YYYY-MM-DD'.\n",
    "    - end_date: Data final no formato 'YYYY-MM-DD'.\n",
    "\n",
    "    Retorna:\n",
    "    - DataFrame com as taxas de câmbio e datas.\n",
    "    \"\"\"\n",
    "    url_base = \"https://economia.awesomeapi.com.br/json/daily/USD-BRL/365\"\n",
    "    start_date = datetime.strptime(start_date, \"%Y-%m-%d\")\n",
    "    end_date = datetime.strptime(end_date, \"%Y-%m-%d\")\n",
    "    \n",
    "    data_atual = end_date\n",
    "    dados_completos = []\n",
    "\n",
    "    while data_atual >= start_date:\n",
    "        # Ajustar intervalo para até 365 dias\n",
    "        data_final = data_atual.strftime(\"%Y%m%d\")\n",
    "        data_inicial = max(start_date, data_atual - timedelta(days=364)).strftime(\"%Y%m%d\")\n",
    "        \n",
    "        # Construir URL com intervalo de datas\n",
    "        url = f\"{url_base}?start_date={data_inicial}&end_date={data_final}\"\n",
    "        \n",
    "        # Fazer requisição\n",
    "        response = requests.get(url)\n",
    "        if response.status_code == 200:\n",
    "            dados = response.json()\n",
    "            dados_completos.extend(dados)\n",
    "        else:\n",
    "            print(f\"Erro na requisição: {response.status_code}\")\n",
    "        \n",
    "        # Atualizar data atual\n",
    "        data_atual -= timedelta(days=365)\n",
    "\n",
    "    # Organizar os dados em um DataFrame\n",
    "    if dados_completos:\n",
    "        df = pd.DataFrame(dados_completos)\n",
    "        df[\"timestamp\"] = pd.to_datetime(df[\"timestamp\"], unit=\"s\")  # Converter timestamps\n",
    "        df = df.sort_values(\"timestamp\")  # Ordenar por data\n",
    "        df = df[[\"timestamp\", \"bid\", \"ask\"]]  # Selecionar colunas importantes\n",
    "        df.columns = [\"Data\", \"Taxa de Compra (USD-BRL)\", \"Taxa de Venda (USD-BRL)\"]\n",
    "        return df\n",
    "    else:\n",
    "        print(\"Nenhum dado encontrado.\")\n",
    "        return None\n",
    "\n",
    "# Chamar a função para obter dados de 2019 a 2024\n",
    "serie_historica = obter_serie_historica_dolar(\"2019-01-01\", \"2024-12-31\")\n",
    "\n",
    "# Salvar os dados em um arquivo CSV\n",
    "if serie_historica is not None:\n",
    "    serie_historica.to_csv(\"serie_historica_usd_brl.csv\", index=False, sep=\";\")\n",
    "    print(\"Série histórica salva em 'serie_historica_usd_brl.csv'\")\n"
   ]
  },
  {
   "cell_type": "code",
   "execution_count": 19,
   "metadata": {},
   "outputs": [],
   "source": [
    "data_dolar_2 = pd.read_csv(\"serie_historica_usd_brl.csv\",delimiter=\";\")"
   ]
  },
  {
   "cell_type": "code",
   "execution_count": 20,
   "metadata": {},
   "outputs": [
    {
     "data": {
      "text/html": [
       "<div>\n",
       "<style scoped>\n",
       "    .dataframe tbody tr th:only-of-type {\n",
       "        vertical-align: middle;\n",
       "    }\n",
       "\n",
       "    .dataframe tbody tr th {\n",
       "        vertical-align: top;\n",
       "    }\n",
       "\n",
       "    .dataframe thead th {\n",
       "        text-align: right;\n",
       "    }\n",
       "</style>\n",
       "<table border=\"1\" class=\"dataframe\">\n",
       "  <thead>\n",
       "    <tr style=\"text-align: right;\">\n",
       "      <th></th>\n",
       "      <th>Data</th>\n",
       "      <th>Taxa de Compra (USD-BRL)</th>\n",
       "      <th>Taxa de Venda (USD-BRL)</th>\n",
       "    </tr>\n",
       "  </thead>\n",
       "  <tbody>\n",
       "    <tr>\n",
       "      <th>0</th>\n",
       "      <td>2019-01-02 11:52:32</td>\n",
       "      <td>3.8858</td>\n",
       "      <td>3.8871</td>\n",
       "    </tr>\n",
       "    <tr>\n",
       "      <th>1</th>\n",
       "      <td>2019-01-04 19:26:56</td>\n",
       "      <td>3.7204</td>\n",
       "      <td>3.7216</td>\n",
       "    </tr>\n",
       "    <tr>\n",
       "      <th>2</th>\n",
       "      <td>2019-01-07 19:39:44</td>\n",
       "      <td>3.7349</td>\n",
       "      <td>3.7360</td>\n",
       "    </tr>\n",
       "    <tr>\n",
       "      <th>3</th>\n",
       "      <td>2019-01-08 17:53:04</td>\n",
       "      <td>3.7268</td>\n",
       "      <td>3.7280</td>\n",
       "    </tr>\n",
       "    <tr>\n",
       "      <th>4</th>\n",
       "      <td>2019-01-09 18:52:48</td>\n",
       "      <td>3.6901</td>\n",
       "      <td>3.6913</td>\n",
       "    </tr>\n",
       "    <tr>\n",
       "      <th>...</th>\n",
       "      <td>...</td>\n",
       "      <td>...</td>\n",
       "      <td>...</td>\n",
       "    </tr>\n",
       "    <tr>\n",
       "      <th>1834</th>\n",
       "      <td>2024-12-26 22:30:24</td>\n",
       "      <td>6.1808</td>\n",
       "      <td>6.1818</td>\n",
       "    </tr>\n",
       "    <tr>\n",
       "      <th>1835</th>\n",
       "      <td>2024-12-27 21:28:32</td>\n",
       "      <td>6.1926</td>\n",
       "      <td>6.1936</td>\n",
       "    </tr>\n",
       "    <tr>\n",
       "      <th>1836</th>\n",
       "      <td>2024-12-28 00:00:00</td>\n",
       "      <td>6.1964</td>\n",
       "      <td>6.1974</td>\n",
       "    </tr>\n",
       "    <tr>\n",
       "      <th>1837</th>\n",
       "      <td>2024-12-30 20:58:40</td>\n",
       "      <td>6.1778</td>\n",
       "      <td>6.1784</td>\n",
       "    </tr>\n",
       "    <tr>\n",
       "      <th>1838</th>\n",
       "      <td>2024-12-31 19:03:28</td>\n",
       "      <td>6.1840</td>\n",
       "      <td>6.1854</td>\n",
       "    </tr>\n",
       "  </tbody>\n",
       "</table>\n",
       "<p>1839 rows × 3 columns</p>\n",
       "</div>"
      ],
      "text/plain": [
       "                     Data  Taxa de Compra (USD-BRL)  Taxa de Venda (USD-BRL)\n",
       "0     2019-01-02 11:52:32                    3.8858                   3.8871\n",
       "1     2019-01-04 19:26:56                    3.7204                   3.7216\n",
       "2     2019-01-07 19:39:44                    3.7349                   3.7360\n",
       "3     2019-01-08 17:53:04                    3.7268                   3.7280\n",
       "4     2019-01-09 18:52:48                    3.6901                   3.6913\n",
       "...                   ...                       ...                      ...\n",
       "1834  2024-12-26 22:30:24                    6.1808                   6.1818\n",
       "1835  2024-12-27 21:28:32                    6.1926                   6.1936\n",
       "1836  2024-12-28 00:00:00                    6.1964                   6.1974\n",
       "1837  2024-12-30 20:58:40                    6.1778                   6.1784\n",
       "1838  2024-12-31 19:03:28                    6.1840                   6.1854\n",
       "\n",
       "[1839 rows x 3 columns]"
      ]
     },
     "execution_count": 20,
     "metadata": {},
     "output_type": "execute_result"
    }
   ],
   "source": [
    "data_dolar_2"
   ]
  },
  {
   "cell_type": "code",
   "execution_count": 21,
   "metadata": {},
   "outputs": [
    {
     "name": "stderr",
     "output_type": "stream",
     "text": [
      "No artists with labels found to put in legend.  Note that artists whose label start with an underscore are ignored when legend() is called with no argument.\n"
     ]
    },
    {
     "data": {
      "image/png": "[encoded data removed]",
      "text/plain": [
       "<Figure size 1200x600 with 1 Axes>"
      ]
     },
     "metadata": {},
     "output_type": "display_data"
    }
   ],
   "source": [
    "# Plotar valores reais e previstos para a cidade\n",
    "plt.figure(figsize=(12,6))\n",
    "plt.plot(data_dolar_2['Taxa de Venda (USD-BRL)'],  color='blue')\n",
    "\n",
    "# Títulos e legendas\n",
    "plt.title('dollar price in reais')\n",
    "plt.xlabel('Date')\n",
    "plt.ylabel('Value')\n",
    "plt.legend()\n",
    "plt.grid(True)\n",
    "\n",
    "plt.tight_layout()\n",
    "plt.show() "
   ]
  },
  {
   "cell_type": "code",
   "execution_count": 22,
   "metadata": {},
   "outputs": [
    {
     "name": "stdout",
     "output_type": "stream",
     "text": [
      "empty rows:\n",
      "Empty DataFrame\n",
      "Columns: [Data, Taxa de Compra (USD-BRL), Taxa de Venda (USD-BRL)]\n",
      "Index: []\n"
     ]
    }
   ],
   "source": [
    "rows_all_nan = data_dolar_2.isnull().all(axis=1)\n",
    "\n",
    "\n",
    "has_empty_rows = rows_all_nan.any()\n",
    "\n",
    "# print empty rows\n",
    "empty_rows = data_dolar_2[rows_all_nan]\n",
    "\n",
    "print(\"empty rows:\")\n",
    "print(empty_rows)\n"
   ]
  }
 ],
 "metadata": {
  "kernelspec": {
   "display_name": "Python 3",
   "language": "python",
   "name": "python3"
  },
  "language_info": {
   "codemirror_mode": {
    "name": "ipython",
    "version": 3
   },
   "file_extension": ".py",
   "mimetype": "text/x-python",
   "name": "python",
   "nbconvert_exporter": "python",
   "pygments_lexer": "ipython3",
   "version": "3.11.5"
  }
 },
 "nbformat": 4,
 "nbformat_minor": 2
}
