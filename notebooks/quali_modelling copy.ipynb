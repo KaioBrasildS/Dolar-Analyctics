{
 "cells": [
  {
   "cell_type": "code",
   "execution_count": 144,
   "metadata": {},
   "outputs": [],
   "source": [
    "import sys\n",
    "sys.path.append('../src')"
   ]
  },
  {
   "cell_type": "code",
   "execution_count": 145,
   "metadata": {},
   "outputs": [],
   "source": [
    "import pandas as pd\n",
    "import numpy as np\n",
    "import matplotlib.pyplot as plt\n",
    "import plotly.express as px\n",
    "\n",
    "\n",
    "from pgmpy.inference import VariableElimination\n",
    "from pgmpy.models import BayesianNetwork\n",
    "from pgmpy.factors.discrete import TabularCPD\n",
    "from pgmpy.estimators import ParameterEstimator\n",
    "from pgmpy.estimators import MaximumLikelihoodEstimator\n",
    "from pgmpy.estimators import BayesianEstimator\n",
    "\n",
    "import daft\n",
    "\n",
    "from sklearn.impute import KNNImputer"
   ]
  },
  {
   "cell_type": "markdown",
   "metadata": {},
   "source": [
    "* Abaixo são criadas as funções que vão nos ajudar nos processos de modelagem e ajuste dos dados."
   ]
  },
  {
   "cell_type": "code",
   "execution_count": 146,
   "metadata": {},
   "outputs": [],
   "source": [
    "from statsmodels.tsa.stattools import pacf\n",
    "from statsmodels.graphics.tsaplots import plot_acf,plot_pacf\n",
    "\n",
    "def getSignificantLags(y, nLags = 5, alpha=0.05):\n",
    "    Pacf, Pacf_intervalos =  pacf(x=y, nlags=nLags, alpha=alpha)\n",
    "   \n",
    "    significantLags = []\n",
    "    for i in range(1, len(Pacf)):\n",
    "        # print(pac[i], pac_ci[i][0], pac_ci[i][1])\n",
    "        if Pacf[i] < Pacf_intervalos[i][0] - Pacf[i] or Pacf[i] > Pacf_intervalos[i][1] - Pacf[i]:\n",
    "            significantLags.append(i)\n",
    "    print('Lags Significantes:', significantLags)\n",
    "    return significantLags\n",
    "\n",
    "\n",
    "def getQlTransformation(x=None, bins=2):\n",
    "    q = []; I = []; categories = list(range(bins))\n",
    "    lower = x.min()\n",
    "    quantile = 1 / bins\n",
    "    cum = quantile\n",
    "    ql_x = pd.Series(index=x.index, dtype=\"Int64\")  # Garante dtype correto para evitar NaN\n",
    "    i = 0\n",
    "\n",
    "    while cum < 1:\n",
    "        upper = x.quantile(cum)\n",
    "        ql_x[(x >= lower) & (x < upper)] = categories[i]\n",
    "        I.append((lower, upper))\n",
    "        q.append(upper)\n",
    "        lower = upper\n",
    "        cum += quantile\n",
    "        i += 1\n",
    "\n",
    "    # Último intervalo (para garantir que o maior valor seja incluído)\n",
    "    ql_x[x >= lower] = categories[-1]\n",
    "    I.append((lower, x.max()))\n",
    "    \n",
    "    return {'ql_x': ql_x, 'I': I, 'bins': bins, 'categories': categories, 'quantile': quantile}\n",
    "\n",
    "\n",
    "def getEvidence(df,X_qualitative,X_quantitative, index):\n",
    "    qualitativeRow = df.loc[index, X_qualitative]  # Seleciona diretamente as colunas qualitativas\n",
    "    quantitativeRow = df.loc[index, X_quantitative]  # Seleciona diretamente as colunas quantitativas\n",
    "    \n",
    "    # Converte para dicionários\n",
    "    qualitative_dic = qualitativeRow.to_dict()\n",
    "    quantitative_dic = quantitativeRow.to_dict()\n",
    "    \n",
    "    return {'qualitative': qualitative_dic, 'quantitative': quantitative_dic}  # Corrige a chave errada\n",
    "\n",
    "\n",
    "def predict(y_qualitative, df, modelInfer, qlTrans):\n",
    "    preds = pd.DataFrame(index=df.index)\n",
    "    preds['~Valor_ql'] = pd.Series(index=df.index, dtype=object)\n",
    "    preds['~Valor_de_Venda'] = pd.Series(index=df.index, dtype=float)\n",
    "    \n",
    "    for i in range(df.shape[0]):\n",
    "        ev_i = getEvidence(df,X_qualitative, X_quantitative, i)\n",
    "\n",
    "        # Usa as chaves corretas ('qualitative' e 'quantitative')\n",
    "        dist_i = modelInfer.query([y_qualitative], evidence=ev_i['qualitative'])\n",
    "\n",
    "        # Encontra o índice da maior probabilidade corretamente\n",
    "        index = np.argmax(dist_i.values)\n",
    "\n",
    "        # Obtém a predição qualitativa\n",
    "        qlPred_i = dist_i.state_names[y_qualitative][index]\n",
    "        preds.loc[df.index[i], '~Valor_ql'] = qlPred_i\n",
    "\n",
    "        # Calcula a predição quantitativa\n",
    "        qtPred_i = 0\n",
    "        for j in range(len(dist_i.values)):\n",
    "            pj = dist_i.values[j]\n",
    "\n",
    "            # Obtém os valores correspondentes\n",
    "            xj = pd.Series(ev_i['quantitative'].values())[pd.Series(ev_i['qualitative'].values()) == j]\n",
    "\n",
    "            if xj.empty:\n",
    "                xj = pd.Series([qlTrans['I'][j]])  # Usa um Series para evitar erro\n",
    "\n",
    "            vj = np.mean([val[0] if isinstance(val, tuple) else val for val in xj])\n",
    "\n",
    "            qtPred_i += pj * vj\n",
    "\n",
    "        preds.loc[df.index[i], '~Valor_de_Venda'] = qtPred_i               \n",
    "    \n",
    "    return preds\n"
   ]
  },
  {
   "cell_type": "markdown",
   "metadata": {},
   "source": [
    "* Os dados representam os preços da gasolina de forma semanal, abrangendo o período de 2019 a 2024. Durante esse período, observou-se uma variação significativa nos preços devido a uma série de fatores, como as eleições, a pandemia e a forte valorização do dólar. Esses eventos tiveram um impacto considerável nos preços da gasolina, resultando em flutuações abruptas e mudanças nas tendências de mercado. A análise desses dados exige a consideração desses fatores externos, que podem ter influenciado a dinâmica de preços de maneira substancial."
   ]
  },
  {
   "cell_type": "code",
   "execution_count": 147,
   "metadata": {},
   "outputs": [
    {
     "data": {
      "text/html": [
       "<div>\n",
       "<style scoped>\n",
       "    .dataframe tbody tr th:only-of-type {\n",
       "        vertical-align: middle;\n",
       "    }\n",
       "\n",
       "    .dataframe tbody tr th {\n",
       "        vertical-align: top;\n",
       "    }\n",
       "\n",
       "    .dataframe thead th {\n",
       "        text-align: right;\n",
       "    }\n",
       "</style>\n",
       "<table border=\"1\" class=\"dataframe\">\n",
       "  <thead>\n",
       "    <tr style=\"text-align: right;\">\n",
       "      <th></th>\n",
       "      <th>Data da Coleta</th>\n",
       "      <th>Produto</th>\n",
       "      <th>Valor_de_Venda</th>\n",
       "    </tr>\n",
       "  </thead>\n",
       "  <tbody>\n",
       "    <tr>\n",
       "      <th>0</th>\n",
       "      <td>2018-12-30</td>\n",
       "      <td>GASOLINA</td>\n",
       "      <td>4.184500</td>\n",
       "    </tr>\n",
       "    <tr>\n",
       "      <th>1</th>\n",
       "      <td>2019-01-06</td>\n",
       "      <td>GASOLINA</td>\n",
       "      <td>4.063250</td>\n",
       "    </tr>\n",
       "    <tr>\n",
       "      <th>2</th>\n",
       "      <td>2019-01-13</td>\n",
       "      <td>GASOLINA</td>\n",
       "      <td>4.028167</td>\n",
       "    </tr>\n",
       "    <tr>\n",
       "      <th>3</th>\n",
       "      <td>2019-01-20</td>\n",
       "      <td>GASOLINA</td>\n",
       "      <td>3.952458</td>\n",
       "    </tr>\n",
       "    <tr>\n",
       "      <th>4</th>\n",
       "      <td>2019-01-27</td>\n",
       "      <td>GASOLINA</td>\n",
       "      <td>3.903375</td>\n",
       "    </tr>\n",
       "  </tbody>\n",
       "</table>\n",
       "</div>"
      ],
      "text/plain": [
       "  Data da Coleta   Produto  Valor_de_Venda\n",
       "0     2018-12-30  GASOLINA        4.184500\n",
       "1     2019-01-06  GASOLINA        4.063250\n",
       "2     2019-01-13  GASOLINA        4.028167\n",
       "3     2019-01-20  GASOLINA        3.952458\n",
       "4     2019-01-27  GASOLINA        3.903375"
      ]
     },
     "metadata": {},
     "output_type": "display_data"
    },
    {
     "name": "stderr",
     "output_type": "stream",
     "text": [
      "WARNING:matplotlib.legend:No artists with labels found to put in legend.  Note that artists whose label start with an underscore are ignored when legend() is called with no argument.\n"
     ]
    },
    {
     "data": {
      "image/png": "[encoded data removed]",
      "text/plain": [
       "<Figure size 1200x600 with 1 Axes>"
      ]
     },
     "metadata": {},
     "output_type": "display_data"
    }
   ],
   "source": [
    "\n",
    "data = pd.read_csv(\"../data/JOAO PESSOA.csv\")\n",
    "\n",
    "# Renomeando a coluna\n",
    "data.rename(columns={'Valor de Venda': 'Valor_de_Venda'}, inplace=True)\n",
    "\n",
    "# Exibindo as primeiras linhas do dataframe para verificar\n",
    "display(data.head())\n",
    "\n",
    "\n",
    "\n",
    "imputer = KNNImputer(n_neighbors=1)\n",
    "\n",
    "data['Valor_de_Venda'].interpolate(method='linear', inplace=True)  # Interpola linearmente\n",
    "\n",
    "\n",
    "# Plotar valores reais e previstos para a cidade\n",
    "plt.figure(figsize=(12,6))\n",
    "plt.plot(data['Valor_de_Venda'],  color='blue')\n",
    "\n",
    "# Títulos e legendas\n",
    "plt.title('Preço da gasolina')\n",
    "plt.xlabel('Data')\n",
    "plt.ylabel('Preço')\n",
    "plt.legend()\n",
    "plt.grid(True)\n",
    "\n",
    "plt.tight_layout()\n",
    "plt.show()"
   ]
  },
  {
   "cell_type": "markdown",
   "metadata": {},
   "source": [
    "* A função getQlTransformation, utilizada abaixo, realiza a discretização dos valores da série numérica em quantis, dividindo os dados em um número especificado de bins (intervalos). No nosso caso a função foi aplicada à coluna ````Valor_de_Venda```` do DataFrame data, utilizando 7 bins.  \n",
    "Com isto criamos uma nova coluna no dataframe com esses valores discretizados."
   ]
  },
  {
   "cell_type": "code",
   "execution_count": 148,
   "metadata": {},
   "outputs": [
    {
     "data": {
      "text/html": [
       "<div>\n",
       "<style scoped>\n",
       "    .dataframe tbody tr th:only-of-type {\n",
       "        vertical-align: middle;\n",
       "    }\n",
       "\n",
       "    .dataframe tbody tr th {\n",
       "        vertical-align: top;\n",
       "    }\n",
       "\n",
       "    .dataframe thead th {\n",
       "        text-align: right;\n",
       "    }\n",
       "</style>\n",
       "<table border=\"1\" class=\"dataframe\">\n",
       "  <thead>\n",
       "    <tr style=\"text-align: right;\">\n",
       "      <th></th>\n",
       "      <th>Data da Coleta</th>\n",
       "      <th>Valor_de_Venda</th>\n",
       "      <th>Valor_ql</th>\n",
       "    </tr>\n",
       "  </thead>\n",
       "  <tbody>\n",
       "    <tr>\n",
       "      <th>0</th>\n",
       "      <td>2018-12-30</td>\n",
       "      <td>4.184500</td>\n",
       "      <td>1</td>\n",
       "    </tr>\n",
       "    <tr>\n",
       "      <th>1</th>\n",
       "      <td>2019-01-06</td>\n",
       "      <td>4.063250</td>\n",
       "      <td>0</td>\n",
       "    </tr>\n",
       "    <tr>\n",
       "      <th>2</th>\n",
       "      <td>2019-01-13</td>\n",
       "      <td>4.028167</td>\n",
       "      <td>0</td>\n",
       "    </tr>\n",
       "    <tr>\n",
       "      <th>3</th>\n",
       "      <td>2019-01-20</td>\n",
       "      <td>3.952458</td>\n",
       "      <td>0</td>\n",
       "    </tr>\n",
       "    <tr>\n",
       "      <th>4</th>\n",
       "      <td>2019-01-27</td>\n",
       "      <td>3.903375</td>\n",
       "      <td>0</td>\n",
       "    </tr>\n",
       "    <tr>\n",
       "      <th>...</th>\n",
       "      <td>...</td>\n",
       "      <td>...</td>\n",
       "      <td>...</td>\n",
       "    </tr>\n",
       "    <tr>\n",
       "      <th>309</th>\n",
       "      <td>2024-12-01</td>\n",
       "      <td>5.861579</td>\n",
       "      <td>5</td>\n",
       "    </tr>\n",
       "    <tr>\n",
       "      <th>310</th>\n",
       "      <td>2024-12-08</td>\n",
       "      <td>5.853684</td>\n",
       "      <td>5</td>\n",
       "    </tr>\n",
       "    <tr>\n",
       "      <th>311</th>\n",
       "      <td>2024-12-15</td>\n",
       "      <td>5.841053</td>\n",
       "      <td>5</td>\n",
       "    </tr>\n",
       "    <tr>\n",
       "      <th>312</th>\n",
       "      <td>2024-12-22</td>\n",
       "      <td>5.846842</td>\n",
       "      <td>5</td>\n",
       "    </tr>\n",
       "    <tr>\n",
       "      <th>313</th>\n",
       "      <td>2024-12-29</td>\n",
       "      <td>5.848235</td>\n",
       "      <td>5</td>\n",
       "    </tr>\n",
       "  </tbody>\n",
       "</table>\n",
       "<p>314 rows × 3 columns</p>\n",
       "</div>"
      ],
      "text/plain": [
       "    Data da Coleta  Valor_de_Venda  Valor_ql\n",
       "0       2018-12-30        4.184500         1\n",
       "1       2019-01-06        4.063250         0\n",
       "2       2019-01-13        4.028167         0\n",
       "3       2019-01-20        3.952458         0\n",
       "4       2019-01-27        3.903375         0\n",
       "..             ...             ...       ...\n",
       "309     2024-12-01        5.861579         5\n",
       "310     2024-12-08        5.853684         5\n",
       "311     2024-12-15        5.841053         5\n",
       "312     2024-12-22        5.846842         5\n",
       "313     2024-12-29        5.848235         5\n",
       "\n",
       "[314 rows x 3 columns]"
      ]
     },
     "metadata": {},
     "output_type": "display_data"
    }
   ],
   "source": [
    "bins = 7\n",
    "qlTrans = getQlTransformation(x=data['Valor_de_Venda'], bins=bins)\n",
    "\n",
    "data = pd.DataFrame({'Data da Coleta':data['Data da Coleta'],'Valor_de_Venda': data['Valor_de_Venda'], 'Valor_ql': qlTrans['ql_x']}, index=data.index)\n",
    "\n",
    "display(data)"
   ]
  },
  {
   "cell_type": "markdown",
   "metadata": {},
   "source": [
    "* Abaixo é feita a análise dos lags relevantes, como os lags relevantes nas variáveis discretas foi somente o primeiro usaremos também só um valor de lag para a variável qualitativa."
   ]
  },
  {
   "cell_type": "code",
   "execution_count": 149,
   "metadata": {},
   "outputs": [
    {
     "name": "stdout",
     "output_type": "stream",
     "text": [
      "Lags Significantes: [1]\n",
      "Lags Significantes: [1, 2, 4]\n",
      "lag discrete value [1]\n",
      "lag continue value [1, 2, 4]\n"
     ]
    }
   ],
   "source": [
    "significant_lags_discrete = getSignificantLags(data['Valor_ql'], nLags = 5, alpha=0.05)\n",
    "significant_lags_continue = getSignificantLags(data['Valor_de_Venda'], nLags = 5, alpha=0.05)\n",
    "\n",
    "print('lag discrete value',significant_lags_discrete)\n",
    "print('lag continue value',significant_lags_continue)"
   ]
  },
  {
   "cell_type": "markdown",
   "metadata": {},
   "source": [
    "* Abaixo criamos as novas colunas discretas e continuas com o lag de valor 1, em seguida é possivel ver como ficou o dataframe apos todos os tratamentos feitos acima."
   ]
  },
  {
   "cell_type": "code",
   "execution_count": 150,
   "metadata": {},
   "outputs": [
    {
     "data": {
      "text/html": [
       "<div>\n",
       "<style scoped>\n",
       "    .dataframe tbody tr th:only-of-type {\n",
       "        vertical-align: middle;\n",
       "    }\n",
       "\n",
       "    .dataframe tbody tr th {\n",
       "        vertical-align: top;\n",
       "    }\n",
       "\n",
       "    .dataframe thead th {\n",
       "        text-align: right;\n",
       "    }\n",
       "</style>\n",
       "<table border=\"1\" class=\"dataframe\">\n",
       "  <thead>\n",
       "    <tr style=\"text-align: right;\">\n",
       "      <th></th>\n",
       "      <th>Data da Coleta</th>\n",
       "      <th>Valor_de_Venda</th>\n",
       "      <th>Valor_ql</th>\n",
       "      <th>Valor_ql_lag1</th>\n",
       "      <th>Valor_de_Venda_lag1</th>\n",
       "    </tr>\n",
       "  </thead>\n",
       "  <tbody>\n",
       "    <tr>\n",
       "      <th>0</th>\n",
       "      <td>2019-01-06</td>\n",
       "      <td>4.063250</td>\n",
       "      <td>0</td>\n",
       "      <td>1</td>\n",
       "      <td>4.184500</td>\n",
       "    </tr>\n",
       "    <tr>\n",
       "      <th>1</th>\n",
       "      <td>2019-01-13</td>\n",
       "      <td>4.028167</td>\n",
       "      <td>0</td>\n",
       "      <td>0</td>\n",
       "      <td>4.063250</td>\n",
       "    </tr>\n",
       "    <tr>\n",
       "      <th>2</th>\n",
       "      <td>2019-01-20</td>\n",
       "      <td>3.952458</td>\n",
       "      <td>0</td>\n",
       "      <td>0</td>\n",
       "      <td>4.028167</td>\n",
       "    </tr>\n",
       "    <tr>\n",
       "      <th>3</th>\n",
       "      <td>2019-01-27</td>\n",
       "      <td>3.903375</td>\n",
       "      <td>0</td>\n",
       "      <td>0</td>\n",
       "      <td>3.952458</td>\n",
       "    </tr>\n",
       "    <tr>\n",
       "      <th>4</th>\n",
       "      <td>2019-02-03</td>\n",
       "      <td>3.914167</td>\n",
       "      <td>0</td>\n",
       "      <td>0</td>\n",
       "      <td>3.903375</td>\n",
       "    </tr>\n",
       "  </tbody>\n",
       "</table>\n",
       "</div>"
      ],
      "text/plain": [
       "  Data da Coleta  Valor_de_Venda  Valor_ql  Valor_ql_lag1  Valor_de_Venda_lag1\n",
       "0     2019-01-06        4.063250         0              1             4.184500\n",
       "1     2019-01-13        4.028167         0              0             4.063250\n",
       "2     2019-01-20        3.952458         0              0             4.028167\n",
       "3     2019-01-27        3.903375         0              0             3.952458\n",
       "4     2019-02-03        3.914167         0              0             3.903375"
      ]
     },
     "metadata": {},
     "output_type": "display_data"
    }
   ],
   "source": [
    "# Criar os lags\n",
    "data['Valor_ql_lag1'] = data['Valor_ql'].shift(1)  # Lag de 1 para Valor_ql\n",
    "data['Valor_de_Venda_lag1'] = data['Valor_de_Venda'].shift(1)  # Lag de 1 para Valor de Venda\n",
    "\n",
    "# Remover linhas com valores NaN gerados pelos lags\n",
    "data.dropna(inplace=True)\n",
    "\n",
    "# Resetar o índice para manter a estrutura organizada\n",
    "data.reset_index(drop=True, inplace=True)\n",
    "\n",
    "# Exibir as primeiras linhas do dataframe resultante\n",
    "display(data.head(5))\n"
   ]
  },
  {
   "cell_type": "markdown",
   "metadata": {},
   "source": [
    "* Separação do conjunto em treinamento e teste."
   ]
  },
  {
   "cell_type": "code",
   "execution_count": 151,
   "metadata": {},
   "outputs": [
    {
     "name": "stdout",
     "output_type": "stream",
     "text": [
      "Tamanho do treino: (308, 5)\n",
      "Tamanho do teste: (5, 5)\n"
     ]
    }
   ],
   "source": [
    "train_data = data.iloc[:-5]  # Todas as linhas menos as 5 últimas\n",
    "test_data = data.iloc[-5:]   # Somente as 5 últimas linhas\n",
    "test_data = test_data.reset_index(drop=True)\n",
    "\n",
    "print(\"Tamanho do treino:\", train_data.shape)\n",
    "print(\"Tamanho do teste:\", test_data.shape)\n"
   ]
  },
  {
   "cell_type": "markdown",
   "metadata": {},
   "source": [
    "* O código Abaixo está organizando as variáveis do conjunto de dados `train_data`, separando-as em qualitativas (discretas) e quantitativas (contínuas) com base nas nossas colunas colunas.  \n",
    "Ele identifica variáveis preditoras que representam lags da variável dependente e as armazena em listas distintas. Em seguida, cria uma lista de pares associando cada variável qualitativa preditora à variável dependente qualitativa (`Valor_ql`).   \n",
    "Esse processo podem ser usados para análise ou visualização da relação entre as variáveis categóricas e a variável de interesse.\n"
   ]
  },
  {
   "cell_type": "code",
   "execution_count": 152,
   "metadata": {},
   "outputs": [],
   "source": [
    "graph = []\n",
    "y_qualitative = 'Valor_ql'\n",
    "y_quantitative = 'Valor_de_Venda'\n",
    "X_qualitative = [xNm for xNm in train_data.columns if 'Valor_ql_' in xNm and xNm != y_qualitative]\n",
    "X_quantitative = [xNm for xNm in train_data.columns if 'Valor_de_Venda_' in xNm and xNm != y_quantitative]\n",
    "\n",
    "for x in X_qualitative:\n",
    "    graph.append((x, y_qualitative))\n"
   ]
  },
  {
   "cell_type": "markdown",
   "metadata": {},
   "source": [
    "* O código abaixo está criando e ajustando um modelo de Rede Bayesiana usando a biblioteca `pgmpy`. Ele utiliza a estrutura de grafo definida anteriormente para construir a relação entre variáveis e aplicar inferência probabilística.  \n",
    "Após instanciar o modelo com `BayesianNetwork(graph)`, ele é treinado com os dados `train_data` utilizando um estimador bayesiano (`BayesianEstimator`). O parâmetro `prior_type=\"BDeu\"` define um tipo de prior Bayesiano, enquanto `equivalent_sample_size=3*bins` ajusta a suavização das probabilidades para lidar com pequenos conjuntos de dados.  \n",
    "Por fim, `check_model()` verifica se a estrutura e os parâmetros do modelo estão corretamente definidos, garantindo que não haja inconsistências na nossa rede.\n"
   ]
  },
  {
   "cell_type": "code",
   "execution_count": 153,
   "metadata": {},
   "outputs": [
    {
     "data": {
      "text/plain": [
       "True"
      ]
     },
     "execution_count": 153,
     "metadata": {},
     "output_type": "execute_result"
    }
   ],
   "source": [
    "beModel = BayesianNetwork(graph)\n",
    "beModel.fit(train_data, estimator=BayesianEstimator, prior_type=\"BDeu\", equivalent_sample_size=3*bins)\n",
    "\n",
    "beModel.check_model()"
   ]
  },
  {
   "cell_type": "markdown",
   "metadata": {},
   "source": [
    "* Abaixo podemos ver o grafo da nossa rede bayesiana esta estruturado."
   ]
  },
  {
   "cell_type": "code",
   "execution_count": 154,
   "metadata": {},
   "outputs": [
    {
     "data": {
      "text/plain": [
       "<Axes: >"
      ]
     },
     "execution_count": 154,
     "metadata": {},
     "output_type": "execute_result"
    },
    {
     "data": {
      "image/png": "[encoded data removed]",
      "text/plain": [
       "<Figure size 212.598x55.1181 with 1 Axes>"
      ]
     },
     "metadata": {},
     "output_type": "display_data"
    }
   ],
   "source": [
    "import matplotlib.pyplot as plt\n",
    "\n",
    "# Criar o gráfico Daft\n",
    "daft1 = beModel.to_daft(node_pos='planar', latex=True)\n",
    "\n",
    "\n",
    "# Renderizar o gráfico\n",
    "daft1.render()\n"
   ]
  },
  {
   "cell_type": "markdown",
   "metadata": {},
   "source": [
    "* O resultado exibe a Tabela de Probabilidade Condicional (CPT) da variável `Valor_ql` em função de `Valor_ql_lag1` dentro da Rede Bayesiana.  \n",
    "Cada linha representa uma possível categoria de `Valor_ql`, enquanto as colunas indicam diferentes estados da variável defasada (`Valor_ql_lag1`). Os valores na tabela correspondem às probabilidades condicionais \\( P(Valor\\_ql | Valor\\_ql\\_lag1) \\).  \n",
    "\n",
    "* A distribuição de probabilidades sugere que quando `Valor_ql_lag1` assume o estado 6, há uma alta probabilidade (≈ 90.48%) de `Valor_ql` também ser 6, enquanto os outros estados têm probabilidades muito menores. Isso indica uma forte autocorrelação para esse estado específico.  \n",
    "\n",
    "* A baixa probabilidade associada aos demais valores de `Valor_ql` sugere que, com base nos dados de treinamento e no estimador bayesiano utilizado, o estado 6 de `Valor_ql_lag1` influencia fortemente a manutenção desse mesmo estado na próxima observação.\n"
   ]
  },
  {
   "cell_type": "code",
   "execution_count": 155,
   "metadata": {},
   "outputs": [
    {
     "name": "stdout",
     "output_type": "stream",
     "text": [
      "+---------------+-----+----------------------+\n",
      "| Valor_ql_lag1 | ... | Valor_ql_lag1(6)     |\n",
      "+---------------+-----+----------------------+\n",
      "| Valor_ql(0)   | ... | 0.008928571428571428 |\n",
      "+---------------+-----+----------------------+\n",
      "| Valor_ql(1)   | ... | 0.008928571428571428 |\n",
      "+---------------+-----+----------------------+\n",
      "| Valor_ql(2)   | ... | 0.008928571428571428 |\n",
      "+---------------+-----+----------------------+\n",
      "| Valor_ql(3)   | ... | 0.008928571428571428 |\n",
      "+---------------+-----+----------------------+\n",
      "| Valor_ql(4)   | ... | 0.008928571428571428 |\n",
      "+---------------+-----+----------------------+\n",
      "| Valor_ql(5)   | ... | 0.05059523809523809  |\n",
      "+---------------+-----+----------------------+\n",
      "| Valor_ql(6)   | ... | 0.9047619047619048   |\n",
      "+---------------+-----+----------------------+\n"
     ]
    }
   ],
   "source": [
    "print(beModel.get_cpds('Valor_ql'))  # conditional"
   ]
  },
  {
   "cell_type": "markdown",
   "metadata": {},
   "source": [
    "* O código implementa uma função `predict` que realiza previsões para variáveis qualitativas (`Valor_ql`) e quantitativas (`Valor_de_Venda`) com base em um modelo de inferência Bayesiana (`modelInfer`), usando evidências extraídas de um DataFrame de entrada (`df`).  \n",
    "\n",
    "* **Estrutura da função `predict`:**\n",
    "  1. **Inicialização**: Um DataFrame `preds` é criado para armazenar as previsões de `Valor_ql` (qualitativo) e `Valor_de_Venda` (quantitativo) para cada linha de `df`.  \n",
    "  2. **Iteração sobre o DataFrame**: A função itera sobre as linhas de `df`, extraindo as evidências para cada observação com `getEvidence()`.  \n",
    "  3. **Inferência qualitativa**: Para cada observação, a função usa `modelInfer.query()` para calcular a distribuição de probabilidade condicional para `Valor_ql` dado as evidências qualitativas. O valor de `Valor_ql` é então atribuído como a classe com a maior probabilidade.  \n",
    "  4. **Inferência quantitativa**: Para calcular `Valor_de_Venda`, a função realiza uma média ponderada dos valores quantitativos disponíveis, multiplicando as probabilidades das classes qualitativas pela média dos valores quantitativos correspondentes.  \n",
    "  5. **Previsão**: O DataFrame `preds` é preenchido com as previsões de `Valor_ql` e `Valor_de_Venda` para cada linha de entrada.\n",
    "\n",
    "* **Uso da função `predict`:**  \n",
    "  - A função é chamada para realizar previsões no conjunto de dados `test_data`, com o modelo `beInfer` (inferência Bayesiana) e a tabela de transformação `qlTrans` que mapeia as variáveis qualitativas.  \n",
    "  - O resultado da função `predict` é armazenado em `predics_test`, que contém as previsões de `Valor_ql` e `Valor_de_Venda` para o conjunto de teste.  \n",
    "\n",
    "* **Concatenando os resultados**:  \n",
    "  - A função `pd.concat()` é usada para combinar os valores reais de `Valor_ql` e `Valor_de_Venda` com as previsões obtidas, criando o DataFrame `data_predics_test`. Isso permite uma comparação entre os valores reais e as previsões feitas pelo modelo.\n",
    "\n",
    "* **Objetivo geral**: O processo completo fornece as previsões para o conjunto de teste, permitindo avaliar o desempenho do modelo ao comparar os valores previstos com os valores reais.\n"
   ]
  },
  {
   "cell_type": "code",
   "execution_count": 156,
   "metadata": {},
   "outputs": [],
   "source": [
    "predics_test = predict(y_qualitative='Valor_ql', df=test_data, modelInfer=beInfer, qlTrans=qlTrans)\n",
    "\n",
    "# Concatenando os valores reais e previstos\n",
    "data_predics_test = pd.concat([\n",
    "                      test_data[['Data da Coleta', 'Valor_ql', 'Valor_de_Venda']], \n",
    "                      predics_test[['~Valor_ql', '~Valor_de_Venda']]], axis=1) \n",
    "\n"
   ]
  },
  {
   "cell_type": "markdown",
   "metadata": {},
   "source": [
    "* Resultado da previsão do conjunto de teste."
   ]
  },
  {
   "cell_type": "code",
   "execution_count": 157,
   "metadata": {},
   "outputs": [
    {
     "data": {
      "text/html": [
       "<div>\n",
       "<style scoped>\n",
       "    .dataframe tbody tr th:only-of-type {\n",
       "        vertical-align: middle;\n",
       "    }\n",
       "\n",
       "    .dataframe tbody tr th {\n",
       "        vertical-align: top;\n",
       "    }\n",
       "\n",
       "    .dataframe thead th {\n",
       "        text-align: right;\n",
       "    }\n",
       "</style>\n",
       "<table border=\"1\" class=\"dataframe\">\n",
       "  <thead>\n",
       "    <tr style=\"text-align: right;\">\n",
       "      <th></th>\n",
       "      <th>Data da Coleta</th>\n",
       "      <th>Valor_ql</th>\n",
       "      <th>Valor_de_Venda</th>\n",
       "      <th>~Valor_ql</th>\n",
       "      <th>~Valor_de_Venda</th>\n",
       "    </tr>\n",
       "  </thead>\n",
       "  <tbody>\n",
       "    <tr>\n",
       "      <th>0</th>\n",
       "      <td>2024-12-01</td>\n",
       "      <td>5</td>\n",
       "      <td>5.861579</td>\n",
       "      <td>5</td>\n",
       "      <td>5.776042</td>\n",
       "    </tr>\n",
       "    <tr>\n",
       "      <th>1</th>\n",
       "      <td>2024-12-08</td>\n",
       "      <td>5</td>\n",
       "      <td>5.853684</td>\n",
       "      <td>5</td>\n",
       "      <td>5.775179</td>\n",
       "    </tr>\n",
       "    <tr>\n",
       "      <th>2</th>\n",
       "      <td>2024-12-15</td>\n",
       "      <td>5</td>\n",
       "      <td>5.841053</td>\n",
       "      <td>5</td>\n",
       "      <td>5.768708</td>\n",
       "    </tr>\n",
       "    <tr>\n",
       "      <th>3</th>\n",
       "      <td>2024-12-22</td>\n",
       "      <td>5</td>\n",
       "      <td>5.846842</td>\n",
       "      <td>5</td>\n",
       "      <td>5.758353</td>\n",
       "    </tr>\n",
       "    <tr>\n",
       "      <th>4</th>\n",
       "      <td>2024-12-29</td>\n",
       "      <td>5</td>\n",
       "      <td>5.848235</td>\n",
       "      <td>5</td>\n",
       "      <td>5.763099</td>\n",
       "    </tr>\n",
       "  </tbody>\n",
       "</table>\n",
       "</div>"
      ],
      "text/plain": [
       "  Data da Coleta  Valor_ql  Valor_de_Venda ~Valor_ql  ~Valor_de_Venda\n",
       "0     2024-12-01         5        5.861579         5         5.776042\n",
       "1     2024-12-08         5        5.853684         5         5.775179\n",
       "2     2024-12-15         5        5.841053         5         5.768708\n",
       "3     2024-12-22         5        5.846842         5         5.758353\n",
       "4     2024-12-29         5        5.848235         5         5.763099"
      ]
     },
     "metadata": {},
     "output_type": "display_data"
    }
   ],
   "source": [
    "display(data_predics_test)"
   ]
  },
  {
   "cell_type": "markdown",
   "metadata": {},
   "source": [
    "* Abaixo Plotagem do resultado da previsão."
   ]
  },
  {
   "cell_type": "code",
   "execution_count": 158,
   "metadata": {},
   "outputs": [
    {
     "name": "stderr",
     "output_type": "stream",
     "text": [
      "INFO:matplotlib.category:Using categorical units to plot a list of strings that are all parsable as floats or dates. If these strings should be plotted as numbers, cast to the appropriate data type before plotting.\n",
      "INFO:matplotlib.category:Using categorical units to plot a list of strings that are all parsable as floats or dates. If these strings should be plotted as numbers, cast to the appropriate data type before plotting.\n",
      "INFO:matplotlib.category:Using categorical units to plot a list of strings that are all parsable as floats or dates. If these strings should be plotted as numbers, cast to the appropriate data type before plotting.\n",
      "INFO:matplotlib.category:Using categorical units to plot a list of strings that are all parsable as floats or dates. If these strings should be plotted as numbers, cast to the appropriate data type before plotting.\n",
      "INFO:matplotlib.category:Using categorical units to plot a list of strings that are all parsable as floats or dates. If these strings should be plotted as numbers, cast to the appropriate data type before plotting.\n",
      "INFO:matplotlib.category:Using categorical units to plot a list of strings that are all parsable as floats or dates. If these strings should be plotted as numbers, cast to the appropriate data type before plotting.\n"
     ]
    },
    {
     "data": {
      "image/png": "[encoded data removed]",
      "text/plain": [
       "<Figure size 1200x600 with 1 Axes>"
      ]
     },
     "metadata": {},
     "output_type": "display_data"
    }
   ],
   "source": [
    "import matplotlib.pyplot as plt\n",
    "\n",
    "# Criando a figura\n",
    "plt.figure(figsize=(12, 6))\n",
    "\n",
    "# Plotando o conjunto de treino\n",
    "plt.plot(train_data['Data da Coleta'], train_data['Valor_de_Venda'], label='Treino', color='blue')\n",
    "\n",
    "# Plotando o conjunto de teste\n",
    "plt.plot(test_data['Data da Coleta'], test_data['Valor_de_Venda'], label='Teste', color='orange')\n",
    "\n",
    "# Plotando a previsão\n",
    "plt.plot(test_data['Data da Coleta'], predics_test['~Valor_de_Venda'], label='Previsão', linestyle='dashed', color='red')\n",
    "\n",
    "# Adicionando título e legendas\n",
    "plt.title('Série Temporal - Treino, Teste e Previsões')\n",
    "plt.xlabel('Data')\n",
    "plt.ylabel('Valor de Venda')\n",
    "plt.legend()\n",
    "plt.grid()\n",
    "\n",
    "# Exibindo o gráfico\n",
    "plt.show()\n",
    "\n"
   ]
  },
  {
   "cell_type": "markdown",
   "metadata": {},
   "source": [
    "* **Acurácia (Valor_ql vs. ~Valor_ql): 1.0000**  \n",
    "  A acurácia de 1.0 indica que o modelo previu corretamente todas as observações para a variável qualitativa `Valor_ql`. Ou seja, para todas as instâncias no conjunto de teste, a previsão de `~Valor_ql` foi idêntica ao valor real de `Valor_ql`. Esse é um ótimo resultado, indicando que o modelo foi extremamente eficaz para prever as classes qualitativas.\n",
    "\n",
    "* **Coeficiente de determinação $ R^2 $ (Valor_de_Venda vs. ~Valor_de_Venda): -161.0000**  \n",
    "  O valor de $ R^2 $ negativo é preocupante e sugere que o modelo não está fazendo boas previsões para a variável quantitativa `Valor_de_Venda`.O $ R^2 $ negativo implica que o modelo está pior do que uma simples média dos valores de `Valor_de_Venda` (ou seja, ele não consegue capturar a variabilidade dos dados e pode estar fazendo previsões erradas).  "
   ]
  },
  {
   "cell_type": "code",
   "execution_count": 159,
   "metadata": {},
   "outputs": [
    {
     "name": "stdout",
     "output_type": "stream",
     "text": [
      "Acurácia (Valor_ql vs. ~Valor_ql): 1.0000\n",
      "Coeficiente de determinação R² (Valor_de_Venda vs. ~Valor_de_Venda): -161.0000\n"
     ]
    }
   ],
   "source": [
    "from sklearn.metrics import r2_score\n",
    "\n",
    "# Calculando a acurácia para a variável qualitativa\n",
    "acuracia = 1 - abs(test_data['Valor_ql'] - predics_test['~Valor_ql']).mean()\n",
    "print(f\"Acurácia (Valor_ql vs. ~Valor_ql): {acuracia:.4f}\")\n",
    "\n",
    "# Arredondando os valores para duas casas decimais antes do cálculo do R²\n",
    "r2_venda = r2_score(test_data['Valor_de_Venda'].round(2), predics_test['~Valor_de_Venda'].round(2))\n",
    "print(f\"Coeficiente de determinação R² (Valor_de_Venda vs. ~Valor_de_Venda): {r2_venda:.4f}\")\n",
    "\n"
   ]
  }
 ],
 "metadata": {
  "kernelspec": {
   "display_name": "Python 3",
   "language": "python",
   "name": "python3"
  },
  "language_info": {
   "codemirror_mode": {
    "name": "ipython",
    "version": 3
   },
   "file_extension": ".py",
   "mimetype": "text/x-python",
   "name": "python",
   "nbconvert_exporter": "python",
   "pygments_lexer": "ipython3",
   "version": "3.11.5"
  }
 },
 "nbformat": 4,
 "nbformat_minor": 2
}
